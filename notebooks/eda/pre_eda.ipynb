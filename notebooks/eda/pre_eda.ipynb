{
 "cells": [
  {
   "cell_type": "markdown",
   "metadata": {},
   "source": [
    "# Load Packages"
   ]
  },
  {
   "cell_type": "markdown",
   "metadata": {},
   "source": [
    "# Summary:\n",
    "duplicated data: \n",
    "791 duplcates\n",
    "\n",
    "\n",
    "very early years : does it make sense?\n",
    "\n",
    "weird peak in 2004 mostly on partnerlid\n",
    "\n",
    "biggest group: former member\n",
    "\n",
    "need to explain: \n",
    "Unique values in 'membership_type':\n",
    "[nan 'partner_member' 'life_member' 'former_member' 'family_pass_partner'\n",
    " 'youth_member' 'family_pass_young_partner' 'staff_member'\n",
    " 'partner_staff_member']\n",
    "\n",
    "Unique values in 'membership_channel':\n",
    "['unknown' 'dm_other' 'shops' 'lsc' 'alc_ww' 'online']\n",
    "\n",
    "Unique values in 'cardcolor':\n",
    "['platinum' 'blue' 'silver' 'bronze' nan]\n"
   ]
  },
  {
   "cell_type": "code",
   "execution_count": null,
   "metadata": {},
   "outputs": [],
   "source": [
    "import os\n",
    "import pandas as pd\n",
    "from pathlib import Path\n",
    "import warnings\n",
    "import plotly.io as pio\n",
    "import numpy as np\n",
    "import json\n",
    "import matplotlib.pyplot as plt\n",
    "import seaborn as sns\n",
    "import plotly.express as px\n",
    "from sklearn.preprocessing import LabelEncoder\n",
    "\n",
    "\n",
    "pio.renderers.default='plotly_mimetype+notebook'\n",
    "pd.set_option('display.max_columns', None)\n",
    "RANDOM_SEED = 69\n",
    "\n",
    "warnings.filterwarnings('ignore')\n",
    "if 'base_dir' not in globals():\n",
    "    base_dir = Path.cwd()\n",
    "main_dir = base_dir.parent.parent\n",
    "print(f\"Intended Main Directory: {main_dir}\")\n",
    "if Path.cwd() != main_dir:\n",
    "    os.chdir(main_dir)\n",
    "    print(f\"Changed working directory to: {main_dir}\")\n",
    "else:\n",
    "    print(\"Working directory is already set correctly.\")\n",
    "print(\"Current Working Directory:\", Path.cwd())"
   ]
  },
  {
   "cell_type": "markdown",
   "metadata": {},
   "source": [
    "# Config"
   ]
  },
  {
   "cell_type": "code",
   "execution_count": null,
   "metadata": {},
   "outputs": [],
   "source": [
    "with open('confs/column_names_translations.json') as file:\n",
    "    column_names_translation = json.load(file)"
   ]
  },
  {
   "cell_type": "markdown",
   "metadata": {},
   "source": [
    "# Load parquet data"
   ]
  },
  {
   "cell_type": "code",
   "execution_count": null,
   "metadata": {},
   "outputs": [],
   "source": [
    "list_data_sources = ['td_klantwaarde_basis', 'td_klantwaarde_reizen', 'td_klantwaarde_reizen_golf', 'td_klantwaarde_verzekeren']\n",
    "for data_source in list_data_sources:\n",
    "    data_dir = Path(f'data/client_data/{data_source}')\n",
    "    full_df = pd.concat(\n",
    "        (pd.read_parquet(parquet_file)\n",
    "        for parquet_file in data_dir.glob('*.parquet')), ignore_index=True\n",
    "    ).drop_duplicates()\n",
    "    print(data_source)\n",
    "    print(full_df.head())\n",
    "    print(len(full_df))\n",
    "    print('################')"
   ]
  },
  {
   "cell_type": "markdown",
   "metadata": {},
   "source": [
    "1. the first table contains data, such as type of membership, age, zip code, first member date.\n",
    "2. the second table contains all travel data and contains booking date, category and product.\n",
    "3. the third table contains travel data for our golf department and this table contains product, start date and end date.\n",
    "4. the fourth table contains our insurance data and also contains product, start date and end date. "
   ]
  },
  {
   "cell_type": "markdown",
   "metadata": {},
   "source": [
    "## Copy to TD Repo"
   ]
  },
  {
   "cell_type": "code",
   "execution_count": null,
   "metadata": {},
   "outputs": [],
   "source": [
    "#!export AWS_PROFILE=td-org-data_engineering_staging \n",
    "#!aws s3 sync data/client_data/ s3://anwb-pyspark/anwb-member-score-data/"
   ]
  },
  {
   "cell_type": "markdown",
   "metadata": {},
   "source": [
    "# Client Data Base"
   ]
  },
  {
   "cell_type": "code",
   "execution_count": null,
   "metadata": {},
   "outputs": [],
   "source": [
    "data_source = 'td_klantwaarde_basis'\n",
    "data_dir = Path(f'data/client_data/{data_source}')\n",
    "full_df = pd.concat(\n",
    "    (pd.read_parquet(parquet_file)\n",
    "    for parquet_file in data_dir.glob('*.parquet')) , ignore_index=True).drop_duplicates()\n",
    "    \n",
    "full_df = full_df.rename(columns=column_names_translation['datasources_columns'])\n",
    "for column, mapping in column_names_translation['column_values'].items():\n",
    "    full_df[column] = full_df[column].map(mapping)\n"
   ]
  },
  {
   "cell_type": "markdown",
   "metadata": {},
   "source": [
    "## General Statistics"
   ]
  },
  {
   "cell_type": "code",
   "execution_count": null,
   "metadata": {},
   "outputs": [],
   "source": [
    "print(\"\\nDataset Information:\")\n",
    "full_df.info()\n",
    "print(\"\\nMissing values in each column:\")\n",
    "print(full_df.isnull().sum())\n",
    "categorical_cols = ['membership_type', 'membership_channel', 'cardcolor']\n",
    "for col in categorical_cols:\n",
    "    print(f\"\\nUnique values in '{col}':\")\n",
    "    print(full_df[col].unique())\n",
    "\n"
   ]
  },
  {
   "cell_type": "code",
   "execution_count": null,
   "metadata": {},
   "outputs": [],
   "source": [
    "full_df['join_date'] = pd.to_datetime(full_df['join_date'], errors='coerce')\n",
    "full_df['year_joined'] = full_df['join_date'].dt.year\n",
    "full_df['month_joined'] = full_df['join_date'].dt.month"
   ]
  },
  {
   "cell_type": "code",
   "execution_count": null,
   "metadata": {},
   "outputs": [],
   "source": [
    "sorted_membership_types = full_df['membership_type'].value_counts().index.tolist()\n",
    "fig1 = px.histogram(full_df, x='membership_type', color='membership_type', \n",
    "                    title='Distribution of Membership Types',\n",
    "                    color_discrete_sequence=px.colors.qualitative.Vivid,\n",
    "                    category_orders={'membership_type': sorted_membership_types})\n",
    "fig1.update_layout(xaxis_title='Membership Type', yaxis_title='Count')\n",
    "fig1.show()\n",
    "\n",
    "sorted_card_colors = full_df['cardcolor'].value_counts().index.tolist()\n",
    "fig2 = px.histogram(full_df, x='cardcolor', color='cardcolor', \n",
    "                    title='Distribution of Card Colors',\n",
    "                    color_discrete_sequence=px.colors.qualitative.Pastel1,\n",
    "                    category_orders={'cardcolor': sorted_card_colors})\n",
    "fig2.update_layout(xaxis_title='Card Color', yaxis_title='Count')\n",
    "fig2.show()\n",
    "\n",
    "fig3 = px.histogram(full_df, x='age', nbins=30, title='Age Distribution of Members', marginal='box',\n",
    "                    color_discrete_sequence=['teal'])\n",
    "fig3.update_layout(xaxis_title='Age', yaxis_title='Number of Members')\n",
    "fig3.show()\n",
    "\n",
    "sorted_membership_channels = full_df['membership_channel'].value_counts().index.tolist()\n",
    "fig4 = px.histogram(full_df, y='membership_channel', color='membership_channel', \n",
    "                    orientation='h',\n",
    "                    title='Membership Channel Distribution',\n",
    "                    color_discrete_sequence=px.colors.qualitative.Set3,\n",
    "                    category_orders={'membership_channel': sorted_membership_channels})\n",
    "fig4.update_layout(xaxis_title='Count', yaxis_title='Membership Channel')\n",
    "fig4.show()\n",
    "\n",
    "members_per_year = full_df.groupby('year_joined').size().reset_index(name='members_count')\n",
    "fig5 = px.line(members_per_year, x='year_joined', y='members_count', title='Number of Members Joined Each Year',\n",
    "               markers=True)\n",
    "fig5.update_layout(xaxis_title='Year Joined', yaxis_title='Number of Members')\n",
    "fig5.show()\n",
    "\n",
    "full_df['year_month_joined'] = full_df['join_date'].dt.to_period('M').astype(str)\n",
    "members_per_month = full_df.groupby('year_month_joined').size().reset_index(name='members_count')\n",
    "fig6 = px.line(members_per_month, x='year_month_joined', y='members_count',\n",
    "               title='Number of Members Joined Each Month')\n",
    "fig6.update_layout(xaxis_title='Year-Month Joined', yaxis_title='Number of Members')\n",
    "fig6.update_xaxes(nticks=20, tickangle=45)\n",
    "fig6.show()\n",
    "\n",
    "membership_by_year = full_df.groupby(['year_joined', 'membership_type']).size().reset_index(name='members_count')\n",
    "fig7 = px.bar(membership_by_year, x='year_joined', y='members_count', color='membership_type',\n",
    "              title='Membership Types Over the Years',\n",
    "              color_discrete_sequence=px.colors.qualitative.Prism)\n",
    "fig7.update_layout(xaxis_title='Year Joined', yaxis_title='Number of Members')\n",
    "fig7.show()\n",
    "\n",
    "fig8 = px.box(full_df, x='membership_type', y='age', color='membership_type',\n",
    "              title='Age Distribution by Membership Type',\n",
    "              color_discrete_sequence=px.colors.qualitative.Vivid)\n",
    "fig8.update_layout(xaxis_title='Membership Type', yaxis_title='Age')\n",
    "fig8.show()\n",
    "\n",
    "fig9 = px.box(full_df, x='cardcolor', y='age', color='cardcolor',\n",
    "              title='Age Distribution by Card Color',\n",
    "              color_discrete_sequence=px.colors.qualitative.Pastel1)\n",
    "fig9.update_layout(xaxis_title='Card Color', yaxis_title='Age')\n",
    "fig9.show()\n",
    "\n",
    "fig10 = px.box(full_df, x='membership_channel', y='age', color='membership_channel',\n",
    "               title='Age Distribution by Membership Channel',\n",
    "               color_discrete_sequence=px.colors.qualitative.Set2)\n",
    "fig10.update_layout(xaxis_title='Membership Channel', yaxis_title='Age')\n",
    "fig10.update_xaxes(tickangle=45)\n",
    "fig10.show()\n",
    "\n",
    "\n",
    "df_encoded = full_df.copy()\n",
    "label_encoders = {}\n",
    "categorical_cols = ['membership_type', 'membership_channel', 'cardcolor']\n",
    "for column in categorical_cols:\n",
    "    le = LabelEncoder()\n",
    "    df_encoded[column] = le.fit_transform(df_encoded[column])\n",
    "    label_encoders[column] = le\n",
    "\n",
    "numerical_cols = ['age', 'year_joined'] + categorical_cols\n",
    "\n",
    "corr_matrix = df_encoded[numerical_cols].corr()\n",
    "\n",
    "fig11 = px.imshow(corr_matrix, text_auto=True, title='Correlation Matrix of Encoded Variables')\n",
    "fig11.show()\n",
    "\n",
    "top_postcodes = full_df['postcode'].value_counts().head(20).reset_index()\n",
    "top_postcodes.columns = ['postcode', 'members_count']\n",
    "fig12 = px.bar(top_postcodes, x='postcode', y='members_count', title='Top 20 Postcodes by Number of Members',\n",
    "               color='members_count', color_continuous_scale='Magma')\n",
    "fig12.update_layout(xaxis_title='Postcode', yaxis_title='Number of Members')\n",
    "fig12.show()"
   ]
  }
 ],
 "metadata": {
  "kernelspec": {
   "display_name": ".venv",
   "language": "python",
   "name": "python3"
  },
  "language_info": {
   "codemirror_mode": {
    "name": "ipython",
    "version": 3
   },
   "file_extension": ".py",
   "mimetype": "text/x-python",
   "name": "python",
   "nbconvert_exporter": "python",
   "pygments_lexer": "ipython3",
   "version": "3.12.7"
  }
 },
 "nbformat": 4,
 "nbformat_minor": 2
}
